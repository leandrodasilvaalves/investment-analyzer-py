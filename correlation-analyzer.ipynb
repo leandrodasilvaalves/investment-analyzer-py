{
 "cells": [
  {
   "cell_type": "markdown",
   "metadata": {},
   "source": [
    "# Analisador De Correlação Entre Ações"
   ]
  },
  {
   "cell_type": "code",
   "execution_count": null,
   "metadata": {},
   "outputs": [],
   "source": [
    "%pip install yfinance\n",
    "import yfinance as yf\n",
    "\n",
    "ticker = \"PETR4\"\n",
    "stock = yf.Ticker(f\"{ticker}.SA\")\n",
    "stock"
   ]
  },
  {
   "cell_type": "code",
   "execution_count": null,
   "metadata": {},
   "outputs": [],
   "source": [
    "import pandas as pd\n",
    "import matplotlib.pyplot as plt\n",
    "\n",
    "from src.correlation import correlation"
   ]
  },
  {
   "cell_type": "code",
   "execution_count": 2,
   "metadata": {},
   "outputs": [],
   "source": [
    "WALLET = [\"PETR4\", \"AGRO3\"]\n",
    "\n",
    "STOCKS_UNDER_EVALUATION = [\n",
    "    \"ITUB4\", \"PETZ3\", \"AZUL4\", \n",
    "    \"CMIG4\", \"CSNA3\", \"GGBR4\", \n",
    "    \"GOAU4\", \"HYPE3\", \"JBSS3\", \n",
    "    \"KLBN4\",  \"CMIG4\", \"CPLE6\",\n",
    "    \"LREN3\", \"SANB11\", \"BBAS3\",\n",
    "    \"CSNA3\", \"VALE3\", \"WEGE3\",\n",
    "]"
   ]
  },
  {
   "cell_type": "code",
   "execution_count": null,
   "metadata": {},
   "outputs": [],
   "source": [
    "df_results = correlation.calculate_for_wallet(WALLET, STOCKS_UNDER_EVALUATION)"
   ]
  },
  {
   "cell_type": "markdown",
   "metadata": {},
   "source": [
    "### Forte correlação Negativa"
   ]
  },
  {
   "cell_type": "code",
   "execution_count": null,
   "metadata": {},
   "outputs": [],
   "source": [
    "filter = df_results['Result'].isin(['Forte correlação negativa'])\n",
    "df_results[filter]"
   ]
  },
  {
   "cell_type": "markdown",
   "metadata": {},
   "source": [
    "### Fraca correlação negativa"
   ]
  },
  {
   "cell_type": "code",
   "execution_count": null,
   "metadata": {},
   "outputs": [],
   "source": [
    "filter = df_results['Result'].isin(['Fraca correlação negativa'])\n",
    "df_results[filter]"
   ]
  },
  {
   "cell_type": "markdown",
   "metadata": {},
   "source": [
    "### Não correlacionado"
   ]
  },
  {
   "cell_type": "code",
   "execution_count": null,
   "metadata": {},
   "outputs": [],
   "source": [
    "filter = df_results['Result'].isin(['Não correlacionado'])\n",
    "df_results[filter]"
   ]
  },
  {
   "cell_type": "markdown",
   "metadata": {},
   "source": [
    "### Fraca correlação positiva"
   ]
  },
  {
   "cell_type": "code",
   "execution_count": null,
   "metadata": {},
   "outputs": [],
   "source": [
    "filter = df_results['Result'].isin(['Fraca correlação positiva'])\n",
    "df_results[filter]"
   ]
  },
  {
   "cell_type": "markdown",
   "metadata": {},
   "source": [
    "### Forte correlação positiva"
   ]
  },
  {
   "cell_type": "code",
   "execution_count": null,
   "metadata": {},
   "outputs": [],
   "source": [
    "filter = df_results['Result'].isin(['Forte correlação positiva'])\n",
    "df_results[filter]"
   ]
  },
  {
   "cell_type": "code",
   "execution_count": null,
   "metadata": {},
   "outputs": [],
   "source": [
    "plt.figure(figsize=(14, 7))\n",
    "plt.bar(df_results['Stock_Eval'], df_results['Correlation'], color='blue')\n",
    "plt.xlabel('Stock Evaluation')\n",
    "plt.ylabel('Correlation')\n",
    "plt.title('Correlation between Wallet Stocks and Evaluation Stocks')\n",
    "plt.xticks(rotation=90)\n",
    "plt.grid(True)\n",
    "plt.show()"
   ]
  },
  {
   "cell_type": "code",
   "execution_count": null,
   "metadata": {},
   "outputs": [],
   "source": [
    "for stock in WALLET:\n",
    "    stock_filter = df_results['Stock_Wallet'] == stock\n",
    "    filtered_results = df_results[stock_filter]\n",
    "    \n",
    "    plt.figure(figsize=(14, 7))\n",
    "    plt.scatter(filtered_results['Stock_Eval'], filtered_results['Correlation'], color='blue')\n",
    "    plt.xlabel('Stock Evaluation')\n",
    "    plt.ylabel('Correlation')\n",
    "    plt.title(f'Correlation between {stock} and Evaluation Stocks')\n",
    "    plt.xticks(rotation=90)\n",
    "    plt.grid(True)\n",
    "    plt.show()"
   ]
  }
 ],
 "metadata": {
  "kernelspec": {
   "display_name": ".venv",
   "language": "python",
   "name": "python3"
  },
  "language_info": {
   "codemirror_mode": {
    "name": "ipython",
    "version": 3
   },
   "file_extension": ".py",
   "mimetype": "text/x-python",
   "name": "python",
   "nbconvert_exporter": "python",
   "pygments_lexer": "ipython3",
   "version": "3.11.3"
  }
 },
 "nbformat": 4,
 "nbformat_minor": 4
}
