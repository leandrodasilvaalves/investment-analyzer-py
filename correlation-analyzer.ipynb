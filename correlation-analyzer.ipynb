{
 "cells": [
  {
   "cell_type": "markdown",
   "metadata": {},
   "source": [
    "# Analisador De Correlação Entre Ações"
   ]
  },
  {
   "cell_type": "code",
   "execution_count": 78,
   "metadata": {},
   "outputs": [],
   "source": [
    "import yfinance as yf\n",
    "from datetime import datetime, timedelta\n",
    "import os\n",
    "import pandas as pd"
   ]
  },
  {
   "cell_type": "code",
   "execution_count": 79,
   "metadata": {},
   "outputs": [],
   "source": [
    "WALLET = [\"PETR4\", \"AGRO3\"]\n",
    "STOCKS_UNDER_EVALUATION = [\"ITUB4\", \"PETZ3\"]\n",
    "INTERVAL_DAYS = 365"
   ]
  },
  {
   "cell_type": "code",
   "execution_count": 80,
   "metadata": {},
   "outputs": [],
   "source": [
    "def verify_file_data(start_date, end_date, history):\n",
    "    latest_date_str = history.iloc[-1].Date\n",
    "    latest_date = datetime.strptime(latest_date_str, '%Y-%m-%d')\n",
    "\n",
    "    difference = (end_date - latest_date).days \n",
    "    outdated_file = difference > 3\n",
    "\n",
    "    if(outdated_file):\n",
    "        start_date = latest_date + timedelta(days=1)\n",
    "\n",
    "    return outdated_file, start_date"
   ]
  },
  {
   "cell_type": "code",
   "execution_count": 81,
   "metadata": {},
   "outputs": [],
   "source": [
    "def parse_result(data):\n",
    "    data_list = data.reset_index().to_dict(orient='records')    \n",
    "    df = pd.DataFrame(data_list)\n",
    "    \n",
    "    new_column_names = {}\n",
    "    for col in df.columns:\n",
    "        if isinstance(col, tuple):\n",
    "            new_column_names[col] = col[0] \n",
    "        else:\n",
    "            new_column_names[col] = col\n",
    "\n",
    "    df.rename(columns=new_column_names, inplace=True)\n",
    "    df = df.round(2)\n",
    "    \n",
    "    return df"
   ]
  },
  {
   "cell_type": "code",
   "execution_count": 82,
   "metadata": {},
   "outputs": [],
   "source": [
    "def get_history_from_yahoo(start_date, end_date, asset):\n",
    "    start_date_str = start_date.strftime('%Y-%m-%d')\n",
    "    end_date_str = end_date.strftime('%Y-%m-%d')\n",
    "\n",
    "    print('obtendo dados do \"yahoo finances\"')\n",
    "    data = yf.download(f\"{asset}.SA\", start=start_date_str, end=end_date_str)\n",
    "    return parse_result(data)"
   ]
  },
  {
   "cell_type": "code",
   "execution_count": 83,
   "metadata": {},
   "outputs": [],
   "source": [
    "def build_file_name(asset):\n",
    "    return f\"csv_files/{asset.lower()}_historical_data.csv\""
   ]
  },
  {
   "cell_type": "code",
   "execution_count": 84,
   "metadata": {},
   "outputs": [],
   "source": [
    "def get_history(asset):        \n",
    "    end_date = datetime.today()\n",
    "    start_date = end_date - timedelta(days=INTERVAL_DAYS)\n",
    "    \n",
    "    file = build_file_name(asset)\n",
    "    \n",
    "    if(os.path.exists(file)):\n",
    "        print('retornando arquivo local: ', file)\n",
    "        historical_data = pd.read_csv(file)\n",
    "        outdated_file, new_start_date = verify_file_data(start_date, end_date, historical_data)\n",
    "        \n",
    "        if(outdated_file):\n",
    "            new_historical_data = get_history_from_yahoo(new_start_date, end_date, asset)\n",
    "            new_historical_data.to_csv(file, mode='a', header=False, index=False)\n",
    "            historical_data = pd.concat([historical_data, new_historical_data], ignore_index=True)\n",
    "\n",
    "    else:\n",
    "        historical_data = get_history_from_yahoo(start_date, end_date, asset)\n",
    "        historical_data.to_csv(file, index=False)\n",
    "\n",
    "    if 'Date' in historical_data.columns:\n",
    "        historical_data['Date'] = pd.to_datetime(historical_data['Date']).dt.strftime('%Y-%m-%d')\n",
    "        \n",
    "    return historical_data                           "
   ]
  },
  {
   "cell_type": "code",
   "execution_count": 85,
   "metadata": {},
   "outputs": [],
   "source": [
    "def classify_correlation(correlation):\n",
    "    if correlation <= -0.7:\n",
    "        return \"Forte correlação negativa\"\n",
    "    elif -0.7 < correlation <= -0.3:\n",
    "        return \"Fraca correlação negativa\"\n",
    "    elif -0.3 < correlation < 0.3:\n",
    "        return \"Não correlacionado\"\n",
    "    elif 0.3 <= correlation < 0.7:\n",
    "        return \"Fraca correlação positiva\"\n",
    "    else:\n",
    "        return \"Forte correlação positiva\""
   ]
  },
  {
   "cell_type": "code",
   "execution_count": 86,
   "metadata": {},
   "outputs": [],
   "source": [
    "def calculate_correlation(asset1, asset2):\n",
    "    history1 = get_history(asset1)\n",
    "    history2 = get_history(asset2)\n",
    "\n",
    "    close1 = history1[['Date', 'Close']].rename(columns={'Close': f'Close_{asset1}'})\n",
    "    close2 = history2[['Date', 'Close']].rename(columns={'Close': f'Close_{asset2}'})\n",
    "\n",
    "    combined_data = pd.merge(close1, close2, on='Date')\n",
    "    correlation = combined_data[f'Close_{asset1}'].corr(combined_data[f'Close_{asset2}'])\n",
    "    correlation = float(round(correlation, 2))\n",
    "\n",
    "    classification = classify_correlation(correlation)\n",
    "    return {'correlation':  correlation, 'result': classification}"
   ]
  },
  {
   "cell_type": "code",
   "execution_count": 87,
   "metadata": {},
   "outputs": [
    {
     "name": "stdout",
     "output_type": "stream",
     "text": [
      "retornando arquivo local:  csv_files/csna3_historical_data.csv\n",
      "retornando arquivo local:  csv_files/cple6_historical_data.csv\n"
     ]
    },
    {
     "data": {
      "text/plain": [
       "{'correlation': 0.11, 'result': 'Não correlacionado'}"
      ]
     },
     "execution_count": 87,
     "metadata": {},
     "output_type": "execute_result"
    }
   ],
   "source": [
    "calculate_correlation(\"CSNA3\", \"CPLE6\")"
   ]
  },
  {
   "cell_type": "code",
   "execution_count": 88,
   "metadata": {},
   "outputs": [],
   "source": [
    "# get_history(\"PETZ3\")\n",
    "# get_history(\"PETR4\")\n",
    "# get_history(\"AGRO3\")\n",
    "# get_history(\"ITUB4\")\n",
    "# get_history(\"SANB11\")"
   ]
  }
 ],
 "metadata": {
  "kernelspec": {
   "display_name": ".venv",
   "language": "python",
   "name": "python3"
  },
  "language_info": {
   "codemirror_mode": {
    "name": "ipython",
    "version": 3
   },
   "file_extension": ".py",
   "mimetype": "text/x-python",
   "name": "python",
   "nbconvert_exporter": "python",
   "pygments_lexer": "ipython3",
   "version": "3.10.12"
  }
 },
 "nbformat": 4,
 "nbformat_minor": 2
}
