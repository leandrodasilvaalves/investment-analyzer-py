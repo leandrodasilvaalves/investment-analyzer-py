{
 "cells": [
  {
   "cell_type": "code",
   "execution_count": 5,
   "metadata": {},
   "outputs": [],
   "source": [
    "from src.stocks import stock_b3_list as b3\n",
    "from src.formulas import bazins_formula as bazin"
   ]
  },
  {
   "cell_type": "code",
   "execution_count": 6,
   "metadata": {},
   "outputs": [],
   "source": [
    "# data = b3.get_list()\n",
    "# tickers = data.symbol.tolist()\n",
    "blocked_list = []\n",
    "# blocked_list = [\"VALE\"]"
   ]
  },
  {
   "cell_type": "code",
   "execution_count": 7,
   "metadata": {},
   "outputs": [],
   "source": [
    "# MOCK: Lista de ações para analisar (exemplo: IBOVESPA)\n",
    "tickers = [\"PETR4\", \"PETR3\", \"VALE3\", \"ITUB4\", \"BBAS3\", \"AAPL34\", \"AGRO3\", \"AGRO3F\"] "
   ]
  },
  {
   "cell_type": "code",
   "execution_count": 8,
   "metadata": {},
   "outputs": [
    {
     "name": "stdout",
     "output_type": "stream",
     "text": [
      "retornando arquivo local:  csv_files/ranking_bazin_2024-12-15.csv\n"
     ]
    },
    {
     "data": {
      "text/html": [
       "<div>\n",
       "<style scoped>\n",
       "    .dataframe tbody tr th:only-of-type {\n",
       "        vertical-align: middle;\n",
       "    }\n",
       "\n",
       "    .dataframe tbody tr th {\n",
       "        vertical-align: top;\n",
       "    }\n",
       "\n",
       "    .dataframe thead th {\n",
       "        text-align: right;\n",
       "    }\n",
       "</style>\n",
       "<table border=\"1\" class=\"dataframe\">\n",
       "  <thead>\n",
       "    <tr style=\"text-align: right;\">\n",
       "      <th></th>\n",
       "      <th>Ticker</th>\n",
       "      <th>Market Cap</th>\n",
       "      <th>Debt</th>\n",
       "      <th>Cash</th>\n",
       "      <th>EBITDA</th>\n",
       "      <th>Enterprise Value</th>\n",
       "      <th>EV/EBITDA</th>\n",
       "      <th>Avg Volume 10D</th>\n",
       "      <th>Sector</th>\n",
       "      <th>Dividend Yield</th>\n",
       "      <th>Ticker Base</th>\n",
       "      <th>Annual Dividend</th>\n",
       "      <th>Fair Price</th>\n",
       "    </tr>\n",
       "  </thead>\n",
       "  <tbody>\n",
       "    <tr>\n",
       "      <th>0</th>\n",
       "      <td>AGRO3</td>\n",
       "      <td>2.337976e+09</td>\n",
       "      <td>1.183075e+09</td>\n",
       "      <td>1.807540e+08</td>\n",
       "      <td>2.916780e+08</td>\n",
       "      <td>3.340297e+09</td>\n",
       "      <td>11.452000</td>\n",
       "      <td>263400.0</td>\n",
       "      <td>Consumer Defensive</td>\n",
       "      <td>6.630001</td>\n",
       "      <td>AGRO</td>\n",
       "      <td>1.550078e+08</td>\n",
       "      <td>2.583463e+09</td>\n",
       "    </tr>\n",
       "    <tr>\n",
       "      <th>1</th>\n",
       "      <td>PETR4</td>\n",
       "      <td>5.131651e+11</td>\n",
       "      <td>3.221570e+11</td>\n",
       "      <td>7.783800e+10</td>\n",
       "      <td>2.235830e+11</td>\n",
       "      <td>7.574841e+11</td>\n",
       "      <td>3.387932</td>\n",
       "      <td>30099830.0</td>\n",
       "      <td>Energy</td>\n",
       "      <td>13.650000</td>\n",
       "      <td>PETR</td>\n",
       "      <td>7.004704e+10</td>\n",
       "      <td>1.167451e+12</td>\n",
       "    </tr>\n",
       "    <tr>\n",
       "      <th>2</th>\n",
       "      <td>VALE3</td>\n",
       "      <td>2.384507e+11</td>\n",
       "      <td>9.038900e+10</td>\n",
       "      <td>2.532900e+10</td>\n",
       "      <td>8.381000e+10</td>\n",
       "      <td>3.035107e+11</td>\n",
       "      <td>3.621414</td>\n",
       "      <td>22313970.0</td>\n",
       "      <td>Basic Materials</td>\n",
       "      <td>10.950000</td>\n",
       "      <td>VALE</td>\n",
       "      <td>2.611035e+10</td>\n",
       "      <td>4.351725e+11</td>\n",
       "    </tr>\n",
       "  </tbody>\n",
       "</table>\n",
       "</div>"
      ],
      "text/plain": [
       "  Ticker    Market Cap          Debt          Cash        EBITDA  \\\n",
       "0  AGRO3  2.337976e+09  1.183075e+09  1.807540e+08  2.916780e+08   \n",
       "1  PETR4  5.131651e+11  3.221570e+11  7.783800e+10  2.235830e+11   \n",
       "2  VALE3  2.384507e+11  9.038900e+10  2.532900e+10  8.381000e+10   \n",
       "\n",
       "   Enterprise Value  EV/EBITDA  Avg Volume 10D              Sector  \\\n",
       "0      3.340297e+09  11.452000        263400.0  Consumer Defensive   \n",
       "1      7.574841e+11   3.387932      30099830.0              Energy   \n",
       "2      3.035107e+11   3.621414      22313970.0     Basic Materials   \n",
       "\n",
       "   Dividend Yield Ticker Base  Annual Dividend    Fair Price  \n",
       "0        6.630001        AGRO     1.550078e+08  2.583463e+09  \n",
       "1       13.650000        PETR     7.004704e+10  1.167451e+12  \n",
       "2       10.950000        VALE     2.611035e+10  4.351725e+11  "
      ]
     },
     "execution_count": 8,
     "metadata": {},
     "output_type": "execute_result"
    }
   ],
   "source": [
    "data = bazin.process_formula(tickers)\n",
    "data[~data[\"Ticker Base\"].isin(blocked_list)]"
   ]
  }
 ],
 "metadata": {
  "kernelspec": {
   "display_name": "Python 3",
   "language": "python",
   "name": "python3"
  },
  "language_info": {
   "codemirror_mode": {
    "name": "ipython",
    "version": 3
   },
   "file_extension": ".py",
   "mimetype": "text/x-python",
   "name": "python",
   "nbconvert_exporter": "python",
   "pygments_lexer": "ipython3",
   "version": "3.10.12"
  }
 },
 "nbformat": 4,
 "nbformat_minor": 2
}
