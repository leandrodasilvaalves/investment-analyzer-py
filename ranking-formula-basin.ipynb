{
 "cells": [
  {
   "cell_type": "code",
   "execution_count": 1,
   "metadata": {},
   "outputs": [],
   "source": [
    "from src.stocks import stock_b3_list as b3\n",
    "from src.formulas import bazins_formula as bazin"
   ]
  },
  {
   "cell_type": "code",
   "execution_count": 2,
   "metadata": {},
   "outputs": [],
   "source": [
    "# data = b3.get_list()\n",
    "# tickers = data.symbol.tolist()\n",
    "blocked_list = [\"VALE\"]"
   ]
  },
  {
   "cell_type": "code",
   "execution_count": 3,
   "metadata": {},
   "outputs": [],
   "source": [
    "# MOCK: Lista de ações para analisar (exemplo: IBOVESPA)\n",
    "tickers = [\"PETR4\", \"PETR3\", \"VALE3\", \"ITUB4\", \"BBAS3\", \"AAPL34\", \"AGRO3\", \"AGRO3F\"] "
   ]
  },
  {
   "cell_type": "code",
   "execution_count": 4,
   "metadata": {},
   "outputs": [
    {
     "name": "stdout",
     "output_type": "stream",
     "text": [
      "retornando arquivo local:  csv_files/ranking_bazin_2024-12-15.csv\n"
     ]
    },
    {
     "data": {
      "text/html": [
       "<div>\n",
       "<style scoped>\n",
       "    .dataframe tbody tr th:only-of-type {\n",
       "        vertical-align: middle;\n",
       "    }\n",
       "\n",
       "    .dataframe tbody tr th {\n",
       "        vertical-align: top;\n",
       "    }\n",
       "\n",
       "    .dataframe thead th {\n",
       "        text-align: right;\n",
       "    }\n",
       "</style>\n",
       "<table border=\"1\" class=\"dataframe\">\n",
       "  <thead>\n",
       "    <tr style=\"text-align: right;\">\n",
       "      <th></th>\n",
       "      <th>Ticker</th>\n",
       "      <th>Market Cap</th>\n",
       "      <th>Debt</th>\n",
       "      <th>Cash</th>\n",
       "      <th>EBITDA</th>\n",
       "      <th>Enterprise Value</th>\n",
       "      <th>EV/EBITDA</th>\n",
       "      <th>Avg Volume 10D</th>\n",
       "      <th>Sector</th>\n",
       "      <th>Ticker Base</th>\n",
       "    </tr>\n",
       "  </thead>\n",
       "  <tbody>\n",
       "    <tr>\n",
       "      <th>0</th>\n",
       "      <td>AGRO3</td>\n",
       "      <td>2.337976e+09</td>\n",
       "      <td>1.183075e+09</td>\n",
       "      <td>1.807540e+08</td>\n",
       "      <td>2.916780e+08</td>\n",
       "      <td>3.340297e+09</td>\n",
       "      <td>11.452000</td>\n",
       "      <td>263400.0</td>\n",
       "      <td>Consumer Defensive</td>\n",
       "      <td>AGRO</td>\n",
       "    </tr>\n",
       "    <tr>\n",
       "      <th>1</th>\n",
       "      <td>PETR4</td>\n",
       "      <td>5.131651e+11</td>\n",
       "      <td>3.221570e+11</td>\n",
       "      <td>7.783800e+10</td>\n",
       "      <td>2.235830e+11</td>\n",
       "      <td>7.574841e+11</td>\n",
       "      <td>3.387932</td>\n",
       "      <td>30099830.0</td>\n",
       "      <td>Energy</td>\n",
       "      <td>PETR</td>\n",
       "    </tr>\n",
       "  </tbody>\n",
       "</table>\n",
       "</div>"
      ],
      "text/plain": [
       "  Ticker    Market Cap          Debt          Cash        EBITDA  \\\n",
       "0  AGRO3  2.337976e+09  1.183075e+09  1.807540e+08  2.916780e+08   \n",
       "1  PETR4  5.131651e+11  3.221570e+11  7.783800e+10  2.235830e+11   \n",
       "\n",
       "   Enterprise Value  EV/EBITDA  Avg Volume 10D              Sector Ticker Base  \n",
       "0      3.340297e+09  11.452000        263400.0  Consumer Defensive        AGRO  \n",
       "1      7.574841e+11   3.387932      30099830.0              Energy        PETR  "
      ]
     },
     "execution_count": 4,
     "metadata": {},
     "output_type": "execute_result"
    }
   ],
   "source": [
    "data = bazin.process_formula(tickers)\n",
    "data[~data[\"Ticker Base\"].isin(blocked_list)]"
   ]
  }
 ],
 "metadata": {
  "kernelspec": {
   "display_name": "Python 3",
   "language": "python",
   "name": "python3"
  },
  "language_info": {
   "codemirror_mode": {
    "name": "ipython",
    "version": 3
   },
   "file_extension": ".py",
   "mimetype": "text/x-python",
   "name": "python",
   "nbconvert_exporter": "python",
   "pygments_lexer": "ipython3",
   "version": "3.10.12"
  }
 },
 "nbformat": 4,
 "nbformat_minor": 2
}
