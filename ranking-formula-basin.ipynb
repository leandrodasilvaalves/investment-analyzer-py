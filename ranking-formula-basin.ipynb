{
 "cells": [
  {
   "cell_type": "code",
   "execution_count": 2,
   "metadata": {},
   "outputs": [],
   "source": [
    "from src.stocks import stock_b3_list as b3\n",
    "from src.formulas import bazins_formula as bazin"
   ]
  },
  {
   "cell_type": "code",
   "execution_count": 3,
   "metadata": {},
   "outputs": [],
   "source": [
    "# data = b3.get_list()\n",
    "# tickers = data.symbol.tolist()\n",
    "blocked_list = [\"VALE\"]"
   ]
  },
  {
   "cell_type": "code",
   "execution_count": 4,
   "metadata": {},
   "outputs": [],
   "source": [
    "# MOCK: Lista de ações para analisar (exemplo: IBOVESPA)\n",
    "tickers = [\"PETR4\", \"PETR3\", \"VALE3\", \"ITUB4\", \"BBAS3\", \"AAPL34\", \"AGRO3\", \"AGRO3F\"] "
   ]
  },
  {
   "cell_type": "code",
   "execution_count": null,
   "metadata": {},
   "outputs": [],
   "source": [
    "data = bazin.process_formula(tickers)\n",
    "data[~data[\"Ticker Base\"].isin(blocked_list)]"
   ]
  }
 ],
 "metadata": {
  "kernelspec": {
   "display_name": "Python 3",
   "language": "python",
   "name": "python3"
  },
  "language_info": {
   "codemirror_mode": {
    "name": "ipython",
    "version": 3
   },
   "file_extension": ".py",
   "mimetype": "text/x-python",
   "name": "python",
   "nbconvert_exporter": "python",
   "pygments_lexer": "ipython3",
   "version": "3.10.12"
  }
 },
 "nbformat": 4,
 "nbformat_minor": 2
}
